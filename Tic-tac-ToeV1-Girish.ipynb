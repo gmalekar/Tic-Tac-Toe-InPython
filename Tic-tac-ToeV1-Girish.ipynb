{
 "cells": [
  {
   "cell_type": "code",
   "execution_count": 6,
   "metadata": {
    "collapsed": true
   },
   "outputs": [],
   "source": [
    "from IPython.display import clear_output\n",
    "def display_board(board):\n",
    "    clear_output()\n",
    "    print('    |    |')\n",
    "    print(' '+board[7]+'  | ' +board[8]+'  | '+board[9])\n",
    "    print('    |    |')\n",
    "    print('--------------')\n",
    "    print('    |    |')\n",
    "    print(' '+board[4]+'  | '+board[5]+'  | '+board[6])\n",
    "    print('    |    |')\n",
    "    print('--------------')\n",
    "    print('    |    |')\n",
    "    print(' '+board[1]+'  | '+board[2]+'  | '+board[3])\n",
    "    print('    |    |')\n",
    "    \n"
   ]
  },
  {
   "cell_type": "code",
   "execution_count": 7,
   "metadata": {
    "collapsed": true
   },
   "outputs": [],
   "source": [
    "def player_input():\n",
    "    marker=\"\"\n",
    "    while not(marker==\"X\"or marker==\"O\"):\n",
    "        marker=input('Player 1: Choose your sign').upper()\n",
    "        \n",
    "    if marker==\"X\":\n",
    "        return (\"X\",\"O\")\n",
    "    else:\n",
    "        return (\"O\",\"X\")\n",
    "    "
   ]
  },
  {
   "cell_type": "code",
   "execution_count": 4,
   "metadata": {
    "collapsed": true
   },
   "outputs": [],
   "source": [
    "def place_sign(board,marker,position):\n",
    "    board[position]=marker"
   ]
  },
  {
   "cell_type": "code",
   "execution_count": 9,
   "metadata": {},
   "outputs": [],
   "source": [
    "def check_win(board,mark):\n",
    "    return ((board[7] == mark and board[8]== mark and board[9]==mark) or #checking top row\n",
    "    (board[4] == mark and board[5]== mark and board[6]==mark) or #checking middle row\n",
    "    (board[1] == mark and board[2]== mark and board[3]==mark) or #cheking bottow row\n",
    "    (board[1] == mark and board[4]== mark and board[7]==mark) or #checking first col\n",
    "    (board[2] == mark and board[5]== mark and board[8]==mark) or #checking middle col\n",
    "    (board[3] == mark and board[6]== mark and board[9]==mark) or #checking third col\n",
    "    (board[3] == mark and board[5]== mark and board[7]==mark) or #checking diagonal 1\n",
    "    (board[1] == mark and board[5]== mark and board[9]==mark))   #checking diagonal 2"
   ]
  },
  {
   "cell_type": "code",
   "execution_count": null,
   "metadata": {
    "collapsed": true
   },
   "outputs": [],
   "source": [
    "import random\n",
    "def choose_player():\n",
    "    if random.randint(0, 1) == 0:\n",
    "        return 'Player 1'\n",
    "    else:\n",
    "        return 'Player 2'"
   ]
  },
  {
   "cell_type": "code",
   "execution_count": null,
   "metadata": {
    "collapsed": true
   },
   "outputs": [],
   "source": [
    "def space_check(board, position):\n",
    "    \n",
    "    return board[position] == ' '"
   ]
  },
  {
   "cell_type": "code",
   "execution_count": null,
   "metadata": {
    "collapsed": true
   },
   "outputs": [],
   "source": [
    "def full_board_check(board):\n",
    "    for i in range(1,10):\n",
    "        if space_check(board, i):\n",
    "            return False\n",
    "    return True"
   ]
  },
  {
   "cell_type": "code",
   "execution_count": null,
   "metadata": {
    "collapsed": true
   },
   "outputs": [],
   "source": [
    "def player_choice(board):\n",
    "    position = ' '\n",
    "    while position not in '1 2 3 4 5 6 7 8 9'.split() or not space_check(board, int(position)):\n",
    "        \n",
    "        position = input('Choose your next position: (1-9) ')\n",
    "    return int(position)"
   ]
  },
  {
   "cell_type": "code",
   "execution_count": null,
   "metadata": {
    "collapsed": true
   },
   "outputs": [],
   "source": [
    "def replay():\n",
    "    \n",
    "    return input('Do you want to play again? Enter Yes or No: ').lower().startswith('y')"
   ]
  },
  {
   "cell_type": "code",
   "execution_count": null,
   "metadata": {
    "collapsed": true
   },
   "outputs": [],
   "source": []
  }
 ],
 "metadata": {
  "kernelspec": {
   "display_name": "Python 3",
   "language": "python",
   "name": "python3"
  },
  "language_info": {
   "codemirror_mode": {
    "name": "ipython",
    "version": 3
   },
   "file_extension": ".py",
   "mimetype": "text/x-python",
   "name": "python",
   "nbconvert_exporter": "python",
   "pygments_lexer": "ipython3",
   "version": "3.6.3"
  }
 },
 "nbformat": 4,
 "nbformat_minor": 2
}
