{
 "cells": [
  {
   "cell_type": "code",
   "execution_count": 106,
   "metadata": {
    "collapsed": true
   },
   "outputs": [],
   "source": [
    "def board_display(board):\n",
    "    print('    |    |')\n",
    "    print(' '+board[7]+'  | ' +board[8]+'  | '+board[9])\n",
    "    print('    |    |')\n",
    "    print('--------------')\n",
    "    print('    |    |')\n",
    "    print(' '+board[4]+'  | '+board[5]+'  | '+board[6])\n",
    "    print('    |    |')\n",
    "    print('--------------')\n",
    "    print('    |    |')\n",
    "    print(' '+board[1]+'  | '+board[2]+'  | '+board[3])\n",
    "    print('    |    |')\n",
    "    \n"
   ]
  },
  {
   "cell_type": "code",
   "execution_count": 107,
   "metadata": {},
   "outputs": [
    {
     "name": "stdout",
     "output_type": "stream",
     "text": [
      "    |    |\n",
      " X  | X  | X\n",
      "    |    |\n",
      "--------------\n",
      "    |    |\n",
      " X  | X  | X\n",
      "    |    |\n",
      "--------------\n",
      "    |    |\n",
      " X  | X  | X\n",
      "    |    |\n"
     ]
    }
   ],
   "source": [
    "board=['X']*10\n",
    "board_display(board)"
   ]
  },
  {
   "cell_type": "code",
   "execution_count": 1,
   "metadata": {},
   "outputs": [],
   "source": [
    "def player_input():\n",
    "    sign=\"\"\n",
    "    while not(sign==\"X\"or sign==\"O\"):\n",
    "        sign=input('Player 1: Choose your sign').upper()\n",
    "        \n",
    "    if sign==\"X\":\n",
    "        return (\"X\",\"O\")\n",
    "    else:\n",
    "        return (\"O\",\"X\")\n",
    "    "
   ]
  },
  {
   "cell_type": "code",
   "execution_count": 2,
   "metadata": {
    "collapsed": true
   },
   "outputs": [],
   "source": [
    "def place_sign(board,sign,position):\n",
    "    board[position]=sign"
   ]
  },
  {
   "cell_type": "code",
   "execution_count": null,
   "metadata": {
    "collapsed": true
   },
   "outputs": [],
   "source": [
    "def check_win(board,sign):\n",
    "    return ((board[7] == sign and board[8]== sign and board[9]==sign) or #checking top row\n",
    "    (board[4] == sign and board[5]== sign and board[6]==sign) or #checking middle row\n",
    "    (board[1] == sign and board[2]== sign and board[3]==sign) or #cheking bottow row\n",
    "    (board[1] == sign and board[4]== sign and board[7]==sign) or #checking first col\n",
    "    (board[2] == sign and board[5]== sign and board[8]==sign) or #checking middle col\n",
    "    (board[3] == sign and board[6]== sign and board[9]==sign) or #checking third col\n",
    "    (board[3] == sign and board[5]== sign and board[7]==sign) or #checking diagonal 1\n",
    "    (board[1] == sign and board[5]== sign and board[9]==sign)) or #checking diagonal 2"
   ]
  }
 ],
 "metadata": {
  "kernelspec": {
   "display_name": "Python 3",
   "language": "python",
   "name": "python3"
  },
  "language_info": {
   "codemirror_mode": {
    "name": "ipython",
    "version": 3
   },
   "file_extension": ".py",
   "mimetype": "text/x-python",
   "name": "python",
   "nbconvert_exporter": "python",
   "pygments_lexer": "ipython3",
   "version": "3.6.3"
  }
 },
 "nbformat": 4,
 "nbformat_minor": 2
}
